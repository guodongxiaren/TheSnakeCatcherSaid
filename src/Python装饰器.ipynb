{
 "cells": [
  {
   "cell_type": "markdown",
   "metadata": {},
   "source": [
    "Python3引入的`装饰器`（Decorator）类似Java中的`注解`（Annotation），比如引用的时候都使用@符号前缀，可以拦截函数的执行过程，插入其他函数。也就是说可以更方便的实现AOP编程。**但是你不应该将其称之为Python的注解**，因为Python的装饰器在定义的时候，其理念还是和Java稍有不同的。\n",
    "\n",
    "顾名思义，装饰器来自于GOF23种设计模式之一的`装饰器模式`。就是层层封装的技巧。可以回想一下Java中的IO库，就是采用的装饰器模式。另外如果你使用过Thrift，它的API也是装饰器模式的典型代表。"
   ]
  },
  {
   "cell_type": "markdown",
   "metadata": {},
   "source": [
    "# 装饰器的定义与使用"
   ]
  },
  {
   "cell_type": "code",
   "execution_count": 1,
   "metadata": {},
   "outputs": [
    {
     "name": "stdout",
     "output_type": "stream",
     "text": [
      "params: 1 2\n"
     ]
    },
    {
     "data": {
      "text/plain": [
       "3"
      ]
     },
     "execution_count": 1,
     "metadata": {},
     "output_type": "execute_result"
    }
   ],
   "source": [
    "def outer(func):\n",
    "    def wrapper(*args, **kwargs):\n",
    "        print(\"params:\", *args)\n",
    "        return func(*args, **kwargs)\n",
    "    return wrapper\n",
    "    \n",
    "@outer\n",
    "def add(a, b):\n",
    "    return a + b\n",
    "\n",
    "\n",
    "add(1, 2)"
   ]
  },
  {
   "cell_type": "markdown",
   "metadata": {},
   "source": [
    "## 带参数的装饰器"
   ]
  },
  {
   "cell_type": "markdown",
   "metadata": {},
   "source": [
    "上面的装饰器都是不带参数的，如果要实现带参数的装饰器，就是要**多加一层def！**"
   ]
  },
  {
   "cell_type": "code",
   "execution_count": 12,
   "metadata": {},
   "outputs": [
    {
     "name": "stdout",
     "output_type": "stream",
     "text": [
      "add params: 1 2\n"
     ]
    },
    {
     "data": {
      "text/plain": [
       "3"
      ]
     },
     "execution_count": 12,
     "metadata": {},
     "output_type": "execute_result"
    }
   ],
   "source": [
    "def outer(name=''):\n",
    "    def _outer(func):\n",
    "        def wrapper(*args, **kwargs):\n",
    "            print(name, \"params:\", *args)\n",
    "            return func(*args, **kwargs)\n",
    "        return wrapper\n",
    "    return _outer\n",
    "\n",
    "    \n",
    "@outer(\"add\")\n",
    "def add(a, b):\n",
    "    return a + b\n",
    "\n",
    "\n",
    "add(1, 2)"
   ]
  },
  {
   "cell_type": "markdown",
   "metadata": {},
   "source": [
    "# 装饰器实现AOP\n",
    "来写一个简单的AOP。"
   ]
  },
  {
   "cell_type": "code",
   "execution_count": 3,
   "metadata": {},
   "outputs": [
    {
     "name": "stdout",
     "output_type": "stream",
     "text": [
      "before params: 1 2\n",
      "after return: 3\n"
     ]
    },
    {
     "data": {
      "text/plain": [
       "3"
      ]
     },
     "execution_count": 3,
     "metadata": {},
     "output_type": "execute_result"
    }
   ],
   "source": [
    "def before_after(func):\n",
    "    def wrapper(*args, **kwargs):\n",
    "        print(\"before params:\", *args)\n",
    "        ret = func(*args, **kwargs)\n",
    "        print(\"after return:\", ret)\n",
    "        return ret\n",
    "    return wrapper\n",
    "\n",
    "@before_after\n",
    "def add(a, b):\n",
    "    return a + b \n",
    "\n",
    "add(1, 2)"
   ]
  },
  {
   "cell_type": "markdown",
   "metadata": {},
   "source": [
    "这个还比较初级，只是在调用前和调用后用print输出了一些信息，我们当然也可以wrapper内的func前后调用函数。 "
   ]
  },
  {
   "cell_type": "markdown",
   "metadata": {},
   "source": [
    "来实现一个更通用的AOP"
   ]
  },
  {
   "cell_type": "code",
   "execution_count": 16,
   "metadata": {},
   "outputs": [
    {
     "name": "stdout",
     "output_type": "stream",
     "text": [
      "input : 1 is odd, 2 is even \n",
      "output: 3 is odd\n"
     ]
    },
    {
     "data": {
      "text/plain": [
       "3"
      ]
     },
     "execution_count": 16,
     "metadata": {},
     "output_type": "execute_result"
    }
   ],
   "source": [
    "def aop(func_before=None, func_after=None):\n",
    "    def _aop(func):\n",
    "        def wrapper(*args, **kwargs):\n",
    "            if func_before is not None:\n",
    "                func_before(*args, **kwargs)\n",
    "            ret = func(*args, **kwargs)\n",
    "            if func_after is not None:\n",
    "                func_after(ret)\n",
    "            return ret\n",
    "        return wrapper\n",
    "    return _aop\n",
    "\n",
    "def before(a:int, b:int):\n",
    "    if a %2 == 1:\n",
    "        a_p = \"odd\"\n",
    "    else:\n",
    "        a_p = \"even\"\n",
    "    if b %2 == 1:\n",
    "        b_p = \"odd\"\n",
    "    else:\n",
    "        b_p = \"even\"\n",
    "    print(\"input : %d is %s, %d is %s \" % (a, a_p, b, b_p))\n",
    "    \n",
    "def after(a:int):\n",
    "    if a %2 == 1:\n",
    "        a_p = \"odd\"\n",
    "    else:\n",
    "        a_p = \"even\"\n",
    "    print(\"output: %d is %s\" % (a, a_p))\n",
    "    \n",
    "@aop(before, after)\n",
    "def add(a, b):\n",
    "    return a + b \n",
    "\n",
    "add(1, 2)"
   ]
  },
  {
   "cell_type": "markdown",
   "metadata": {},
   "source": [
    "为了避免混淆，我把两个outer中的warpper分别命名为1和2，当然实际上是可以同名的。"
   ]
  },
  {
   "cell_type": "code",
   "execution_count": 4,
   "metadata": {},
   "outputs": [
    {
     "name": "stdout",
     "output_type": "stream",
     "text": [
      "outer2\n",
      "outer1\n",
      "outer1 inner: wrapper2\n",
      "outer2 inner: echo\n",
      "test\n"
     ]
    }
   ],
   "source": [
    "\n",
    "def outer1(func):\n",
    "    print(\"outer1\")\n",
    "    def wrapper1(*args, **kwargs):\n",
    "        print(\"outer1 inner: \" + func.__name__)\n",
    "        return func(*args, **kwargs)\n",
    "    return wrapper1\n",
    "\n",
    "def outer2(func):\n",
    "    print(\"outer2\")\n",
    "    def wrapper2(*args, **kwargs):\n",
    "        print(\"outer2 inner: \" + func.__name__)\n",
    "        return func(*args, **kwargs)\n",
    "    return wrapper2\n",
    "\n",
    "@outer1\n",
    "@outer2\n",
    "def echo(a):\n",
    "    print(a)\n",
    "    \n",
    "echo(\"test\")"
   ]
  },
  {
   "cell_type": "code",
   "execution_count": 5,
   "metadata": {},
   "outputs": [
    {
     "name": "stdout",
     "output_type": "stream",
     "text": [
      "outer2\n",
      "outer1\n",
      "outer1 inner: echo\n",
      "outer2 inner: echo\n",
      "test\n"
     ]
    }
   ],
   "source": [
    "from functools import wraps\n",
    "\n",
    "def outer1(func):\n",
    "    print(\"outer1\")\n",
    "    @wraps(func) \n",
    "    def wrapper1(*args, **kwargs):\n",
    "        print(\"outer1 inner: \" + func.__name__)\n",
    "        return func(*args, **kwargs)\n",
    "    return wrapper1\n",
    "\n",
    "def outer2(func):\n",
    "    print(\"outer2\")\n",
    "    @wraps(func) \n",
    "    def wrapper2(*args, **kwargs):\n",
    "        print(\"outer2 inner: \" + func.__name__)\n",
    "        return func(*args, **kwargs)\n",
    "    return wrapper2\n",
    "\n",
    "@outer1\n",
    "@outer2\n",
    "def echo(a):\n",
    "    print(a)\n",
    "    \n",
    "echo(\"test\")"
   ]
  },
  {
   "cell_type": "code",
   "execution_count": 6,
   "metadata": {},
   "outputs": [
    {
     "name": "stdout",
     "output_type": "stream",
     "text": [
      "outer2\n",
      "outer1\n",
      "xxx\n",
      "outer1 inner: echo\n",
      "outer2 inner: echo\n",
      "outer1 inner: echo\n",
      "outer2 inner: echo\n",
      "test\n"
     ]
    }
   ],
   "source": [
    "foo = outer1(outer2(echo))\n",
    "print(\"xxx\")\n",
    "foo(\"test\")"
   ]
  },
  {
   "cell_type": "code",
   "execution_count": null,
   "metadata": {},
   "outputs": [],
   "source": []
  },
  {
   "cell_type": "markdown",
   "metadata": {},
   "source": [
    "# 内置装饰器"
   ]
  },
  {
   "cell_type": "markdown",
   "metadata": {},
   "source": [
    "​property\n",
    "setter deleter \n",
    "类方法，静态方法，对象方法 TODO"
   ]
  },
  {
   "cell_type": "markdown",
   "metadata": {},
   "source": [
    "@property"
   ]
  },
  {
   "cell_type": "markdown",
   "metadata": {},
   "source": [
    "----------------\n",
    "# 参考阅读\n",
    "- [详解Python的装饰器](https://www.cnblogs.com/cicaday/p/python-decorator.html)"
   ]
  }
 ],
 "metadata": {
  "kernelspec": {
   "display_name": "Python 3",
   "language": "python",
   "name": "python3"
  },
  "language_info": {
   "codemirror_mode": {
    "name": "ipython",
    "version": 3
   },
   "file_extension": ".py",
   "mimetype": "text/x-python",
   "name": "python",
   "nbconvert_exporter": "python",
   "pygments_lexer": "ipython3",
   "version": "3.7.1"
  }
 },
 "nbformat": 4,
 "nbformat_minor": 2
}
