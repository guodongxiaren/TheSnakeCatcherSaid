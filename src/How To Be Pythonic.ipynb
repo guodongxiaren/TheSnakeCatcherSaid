{
 "cells": [
  {
   "cell_type": "markdown",
   "metadata": {},
   "source": [
    "曾几何时，我也写了很久的Python。Python嘛，糙快猛，很容易上手。但是有一天同事看了我的代码跟我说，『`你的写法没有问题，但是不够Pythonic`』。我擦，什么Pythonic，我不也写的好好的，但是很快我所有所思，他说的没错。我写的代码，含有太多『坏味道』。因为我经常用C/C++的思维来写Python。写出来的代码虽然没错，但是首先不够优雅，其次不够简洁高效。"
   ]
  },
  {
   "cell_type": "markdown",
   "metadata": {},
   "source": [
    "# 1. 单行赋值"
   ]
  },
  {
   "cell_type": "code",
   "execution_count": 16,
   "metadata": {},
   "outputs": [
    {
     "name": "stdout",
     "output_type": "stream",
     "text": [
      "1 2\n"
     ]
    }
   ],
   "source": [
    "a, b = 1, 2\n",
    "print(a, b)"
   ]
  },
  {
   "cell_type": "markdown",
   "metadata": {},
   "source": [
    "## 单行从list赋值"
   ]
  },
  {
   "cell_type": "code",
   "execution_count": 17,
   "metadata": {},
   "outputs": [
    {
     "name": "stdout",
     "output_type": "stream",
     "text": [
      "1 2\n"
     ]
    }
   ],
   "source": [
    "score = [1, 2, 3]\n",
    "a, b = score[0:2]\n",
    "print(a, b)"
   ]
  },
  {
   "cell_type": "markdown",
   "metadata": {},
   "source": [
    "# 2. 单行if"
   ]
  },
  {
   "cell_type": "markdown",
   "metadata": {},
   "source": [
    "## 单行取最大值"
   ]
  },
  {
   "cell_type": "code",
   "execution_count": 18,
   "metadata": {},
   "outputs": [
    {
     "name": "stdout",
     "output_type": "stream",
     "text": [
      "2\n"
     ]
    }
   ],
   "source": [
    "c = a if a>b else b\n",
    "print(c)"
   ]
  },
  {
   "cell_type": "markdown",
   "metadata": {},
   "source": [
    "## 单行取最大值 终极版"
   ]
  },
  {
   "cell_type": "code",
   "execution_count": 19,
   "metadata": {},
   "outputs": [
    {
     "name": "stdout",
     "output_type": "stream",
     "text": [
      "2\n"
     ]
    }
   ],
   "source": [
    "c = (a > b and a or b)\n",
    "print(c)"
   ]
  },
  {
   "cell_type": "markdown",
   "metadata": {},
   "source": [
    "# 3. list 打散传递给可变参数的函数"
   ]
  },
  {
   "cell_type": "code",
   "execution_count": 20,
   "metadata": {},
   "outputs": [
    {
     "name": "stdout",
     "output_type": "stream",
     "text": [
      "192\n"
     ]
    }
   ],
   "source": [
    "def add(a, b):\n",
    "    return a + b\n",
    "\n",
    "score = [100, 92]\n",
    "\n",
    "c = add(*score)\n",
    "print(c)"
   ]
  },
  {
   "cell_type": "markdown",
   "metadata": {},
   "source": [
    "# 4. 遍历\n",
    "## 遍历字典并替换"
   ]
  },
  {
   "cell_type": "code",
   "execution_count": 21,
   "metadata": {},
   "outputs": [
    {
     "name": "stdout",
     "output_type": "stream",
     "text": [
      "a 12\n",
      "b 15\n",
      "c 16\n"
     ]
    }
   ],
   "source": [
    "## 用t依次替换字典的value\n",
    "d = {'a':1, 'b':2, 'c':3}\n",
    "t = [12, 15, 16]\n",
    "for i,k in enumerate(d):\n",
    "    d[k] = t[i]\n",
    "    \n",
    "for k,v in d.items():\n",
    "    print(k, v)"
   ]
  },
  {
   "cell_type": "markdown",
   "metadata": {},
   "source": [
    "## 遍历多维list并替换"
   ]
  },
  {
   "cell_type": "code",
   "execution_count": 22,
   "metadata": {},
   "outputs": [
    {
     "name": "stdout",
     "output_type": "stream",
     "text": [
      "[[2, 4, 6], [8, 10, 12]]\n"
     ]
    }
   ],
   "source": []
  },
  {
   "cell_type": "markdown",
   "metadata": {},
   "source": [
    "# list切片"
   ]
  },
  {
   "cell_type": "code",
   "execution_count": 26,
   "metadata": {},
   "outputs": [
    {
     "name": "stdout",
     "output_type": "stream",
     "text": [
      "[8, 7, 6, 5, 4, 3, 2, 1]\n"
     ]
    }
   ],
   "source": [
    "## 逆序！\n",
    "x = [1, 2, 3, 4, 5, 6, 7, 8]\n",
    "print(x[::-1])"
   ]
  },
  {
   "cell_type": "code",
   "execution_count": 30,
   "metadata": {},
   "outputs": [
    {
     "name": "stdout",
     "output_type": "stream",
     "text": [
      "[[1, 2, 3], [4, 5, 6]]\n",
      "[[2, 4, 6], [8, 10, 12]]\n",
      "[[4, 8, 12], [16, 20, 24]]\n"
     ]
    }
   ],
   "source": [
    "## 二维list，子元素*2\n",
    "x = [[1,2,3],[4,5,6]]\n",
    "for v in x:\n",
    "    for i in v:\n",
    "        i = i*2\n",
    "print(x)\n",
    "\n",
    "for v in x:\n",
    "    for i in range(0, len(v)):\n",
    "        v[i] *= 2\n",
    "print(x)\n",
    "\n",
    "for v in x:\n",
    "    v[:] = map(lambda e:2*e, v)\n",
    "    \n",
    "print(x)"
   ]
  },
  {
   "cell_type": "code",
   "execution_count": 40,
   "metadata": {},
   "outputs": [
    {
     "name": "stdout",
     "output_type": "stream",
     "text": [
      "[2, 4, 6, 8, 10, 12, 14, 16]\n",
      "[1, 2, 3, 4, 5, 6, 7, 8]\n",
      "---------------------------\n",
      "[3, 6, 9, 12, 15, 18, 21, 24]\n"
     ]
    }
   ],
   "source": [
    "def multi2(li):\n",
    "    return list(map(lambda e:2*e, li))\n",
    "\n",
    "def multi3(li):\n",
    "    li[:] = map(lambda e:3*e, li) # 原地更新\n",
    "    \n",
    "x = [1, 2, 3, 4, 5, 6, 7, 8]\n",
    "print(multi2(x))\n",
    "print(x)\n",
    "print('---------------------------')\n",
    "multi3(x)\n",
    "print(x)"
   ]
  },
  {
   "cell_type": "code",
   "execution_count": 2,
   "metadata": {},
   "outputs": [
    {
     "data": {
      "text/plain": [
       "[2, 3]"
      ]
     },
     "execution_count": 2,
     "metadata": {},
     "output_type": "execute_result"
    }
   ],
   "source": [
    "a = [1,2,3]\n",
    "a.pop(0)\n",
    "a"
   ]
  }
 ],
 "metadata": {
  "kernelspec": {
   "display_name": "Python 3",
   "language": "python",
   "name": "python3"
  },
  "language_info": {
   "codemirror_mode": {
    "name": "ipython",
    "version": 3
   },
   "file_extension": ".py",
   "mimetype": "text/x-python",
   "name": "python",
   "nbconvert_exporter": "python",
   "pygments_lexer": "ipython3",
   "version": "3.7.1"
  }
 },
 "nbformat": 4,
 "nbformat_minor": 2
}
