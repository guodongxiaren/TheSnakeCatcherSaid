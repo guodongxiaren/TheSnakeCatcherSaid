{
 "cells": [
  {
   "cell_type": "code",
   "execution_count": null,
   "metadata": {},
   "outputs": [],
   "source": []
  },
  {
   "cell_type": "markdown",
   "metadata": {},
   "source": [
    "# UCS-4 与 UCS-2"
   ]
  },
  {
   "cell_type": "code",
   "execution_count": null,
   "metadata": {},
   "outputs": [],
   "source": []
  },
  {
   "cell_type": "code",
   "execution_count": null,
   "metadata": {},
   "outputs": [],
   "source": []
  },
  {
   "cell_type": "markdown",
   "metadata": {},
   "source": [
    "下面贴一个完整版，注意使用`Python3`"
   ]
  },
  {
   "cell_type": "code",
   "execution_count": 8,
   "metadata": {},
   "outputs": [],
   "source": [
    "#!/usr/bin/env python\n",
    "# coding=utf-8\n",
    "import re\n",
    "import json\n",
    "from urllib import parse\n",
    "\n",
    "\n",
    "class Emoji(object):\n",
    "    @staticmethod\n",
    "    def emoji_re():\n",
    "        try:\n",
    "            # Wide UCS-4 build\n",
    "            myre = re.compile(u'['\n",
    "                              u'\\U0001F300-\\U0001F64F'\n",
    "                              u'\\U0001F680-\\U0001F6FF'\n",
    "                              u'\\u2600-\\u2B55'\n",
    "                              u'\\u23cf'\n",
    "                              u'\\u23e9'\n",
    "                              u'\\u231a'\n",
    "                              u'\\u3030'\n",
    "                              u'\\ufe0f'\n",
    "                              u\"\\U0001F600-\\U0001F64F\"  # emoticons\n",
    "                              u\"\\U0001F300-\\U0001F5FF\"  # symbols & pictographs\n",
    "                              u'\\U00010000-\\U0010ffff'\n",
    "                              u'\\U0001F1E0-\\U0001F1FF'  # flags (iOS)\n",
    "                              u'\\U00002702-\\U000027B0]+',\n",
    "                              re.UNICODE)\n",
    "        except re.error:\n",
    "            # Narrow UCS-2 build\n",
    "            myre = re.compile(u'('\n",
    "                              u'\\ud83c[\\udf00-\\udfff]|'\n",
    "                              u'\\ud83d[\\udc00-\\ude4f]|'\n",
    "                              u'\\uD83D[\\uDE80-\\uDEFF]|'\n",
    "                              u\"(\\ud83d[\\ude00-\\ude4f])|\"  # emoticon\n",
    "                              u'[\\u2600-\\u2B55]|'\n",
    "                              u'[\\u23cf]|'\n",
    "                              u'[\\u1f918]|'\n",
    "                              u'[\\u23e9]|'\n",
    "                              u'[\\u231a]|'\n",
    "                              u'[\\u3030]|'\n",
    "                              u'[\\ufe0f]|'\n",
    "                              u'\\uD83D[\\uDE00-\\uDE4F]|'\n",
    "                              u'\\uD83C[\\uDDE0-\\uDDFF]|'\n",
    "                              u'[\\u2702-\\u27B0]|'\n",
    "                              u'\\uD83D[\\uDC00-\\uDDFF])+',\n",
    "                              re.UNICODE)\n",
    "        return myre\n",
    "\n",
    "    # urlencode 回调函数\n",
    "    @staticmethod\n",
    "    def __urlencode_emoji(a):\n",
    "        return parse.quote(a.group(0))\n",
    "\n",
    "    # unicode encode 回调函数\n",
    "    @staticmethod\n",
    "    def __encode_emoji(a):\n",
    "        return json.dumps(a.group(0)).replace('\"', '')\n",
    "\n",
    "    @staticmethod\n",
    "    def encode(text):\n",
    "        myre = Emoji.emoji_re()\n",
    "        en = re.sub(myre, Emoji.__encode_emoji, text)\n",
    "        return en\n",
    "\n",
    "    @staticmethod\n",
    "    def decode(text):\n",
    "        return json.loads('\"%s\"' % (text))\n",
    "\n",
    "    @staticmethod\n",
    "    def urlencode(text):\n",
    "        myre = Emoji.emoji_re()\n",
    "        en = re.sub(myre, Emoji.__urlencode_emoji, text)\n",
    "        return en\n",
    "    \n",
    "    @staticmethod\n",
    "    def urldecode(text):        \n",
    "        return parse.unquote(text)"
   ]
  },
  {
   "cell_type": "markdown",
   "metadata": {},
   "source": [
    "开始测试："
   ]
  },
  {
   "cell_type": "code",
   "execution_count": 9,
   "metadata": {},
   "outputs": [
    {
     "name": "stdout",
     "output_type": "stream",
     "text": [
      "你好啊,\\ud83d\\ude01\n",
      "你好啊,%F0%9F%98%81\n"
     ]
    }
   ],
   "source": [
    "text = '你好啊,😁'\n",
    "\n",
    "uni_text = Emoji.encode(text)\n",
    "print(uni_text)\n",
    "\n",
    "url_text = Emoji.urlencode(text)\n",
    "print(url_text)"
   ]
  },
  {
   "cell_type": "code",
   "execution_count": 10,
   "metadata": {},
   "outputs": [
    {
     "name": "stdout",
     "output_type": "stream",
     "text": [
      "你好啊,😁\n",
      "你好啊,😁\n"
     ]
    }
   ],
   "source": [
    "plain_text = Emoji.decode(uni_text)\n",
    "print(plain_text)\n",
    "\n",
    "plain_text = Emoji.urldecode(url_text)\n",
    "print(plain_text)"
   ]
  }
 ],
 "metadata": {
  "kernelspec": {
   "display_name": "Python 3",
   "language": "python",
   "name": "python3"
  },
  "language_info": {
   "codemirror_mode": {
    "name": "ipython",
    "version": 3
   },
   "file_extension": ".py",
   "mimetype": "text/x-python",
   "name": "python",
   "nbconvert_exporter": "python",
   "pygments_lexer": "ipython3",
   "version": "3.7.1"
  }
 },
 "nbformat": 4,
 "nbformat_minor": 2
}
