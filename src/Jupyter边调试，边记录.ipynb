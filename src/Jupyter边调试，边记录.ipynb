{
 "cells": [
  {
   "cell_type": "code",
   "execution_count": null,
   "metadata": {},
   "outputs": [],
   "source": []
  },
  {
   "cell_type": "markdown",
   "metadata": {},
   "source": [
    "# 从IPython到Jupyter"
   ]
  },
  {
   "cell_type": "markdown",
   "metadata": {},
   "source": [
    "## 执行shell\n",
    "### code单元格，!开头会被视作shell命令"
   ]
  },
  {
   "cell_type": "code",
   "execution_count": 3,
   "metadata": {},
   "outputs": [
    {
     "name": "stdout",
     "output_type": "stream",
     "text": [
      "How To Be Pythonic.ipynb\n",
      "Jupyter边调试，边记录.ipynb\n",
      "Python装饰器.ipynb\n",
      "python2_test.ipynb\n",
      "python3_test.ipynb\n",
      "写Python的你，再不用conda就OUT了.ipynb\n",
      "由emoji引发的血案，兼谈Python编码系统.ipynb\n",
      "二维数组.ipynb\n",
      "恕我直言，在座的都不会Python.ipynb\n"
     ]
    }
   ],
   "source": [
    "!ls"
   ]
  },
  {
   "cell_type": "markdown",
   "metadata": {},
   "source": [
    "### 同一行其他命令，不需要再加!"
   ]
  },
  {
   "cell_type": "code",
   "execution_count": 5,
   "metadata": {},
   "outputs": [
    {
     "name": "stdout",
     "output_type": "stream",
     "text": [
      "       9\n"
     ]
    }
   ],
   "source": [
    "!ls|wc -l"
   ]
  },
  {
   "cell_type": "markdown",
   "metadata": {},
   "source": [
    "### 每行是不同的会话\n",
    "所以上一行的!cd对下一行不生效"
   ]
  },
  {
   "cell_type": "code",
   "execution_count": 10,
   "metadata": {},
   "outputs": [
    {
     "name": "stdout",
     "output_type": "stream",
     "text": [
      "\u001b[34mApplications\u001b[m\u001b[m              \u001b[34mVolumes\u001b[m\u001b[m                   \u001b[34mnet\u001b[m\u001b[m\n",
      "\u001b[34mIncompatible Software\u001b[m\u001b[m     \u001b[34mbin\u001b[m\u001b[m                       \u001b[34mopt\u001b[m\u001b[m\n",
      "\u001b[34mLibrary\u001b[m\u001b[m                   \u001b[34mcores\u001b[m\u001b[m                     \u001b[34mprivate\u001b[m\u001b[m\n",
      "\u001b[34mNetwork\u001b[m\u001b[m                   \u001b[34mdev\u001b[m\u001b[m                       \u001b[34msbin\u001b[m\u001b[m\n",
      "\u001b[34mSystem\u001b[m\u001b[m                    \u001b[35metc\u001b[m\u001b[m                       \u001b[35mtmp\u001b[m\u001b[m\n",
      "\u001b[30m\u001b[43mTelemetry\u001b[m\u001b[m                 \u001b[34mhome\u001b[m\u001b[m                      \u001b[34musr\u001b[m\u001b[m\n",
      "\u001b[34mUsers\u001b[m\u001b[m                     installer.failurerequests \u001b[35mvar\u001b[m\u001b[m\n",
      "---------------------\n",
      "How To Be Pythonic.ipynb\n",
      "Jupyter边调试，边记录.ipynb\n",
      "Python装饰器.ipynb\n",
      "python2_test.ipynb\n",
      "python3_test.ipynb\n",
      "写Python的你，再不用conda就OUT了.ipynb\n",
      "由emoji引发的血案，兼谈Python编码系统.ipynb\n",
      "二维数组.ipynb\n",
      "恕我直言，在座的都不会Python.ipynb\n"
     ]
    }
   ],
   "source": [
    "!ls /\n",
    "!echo \"---------------------\"\n",
    "!cd /\n",
    "!ls"
   ]
  },
  {
   "cell_type": "code",
   "execution_count": null,
   "metadata": {},
   "outputs": [],
   "source": []
  },
  {
   "cell_type": "markdown",
   "metadata": {
    "slideshow": {
     "slide_type": "-"
    }
   },
   "source": [
    "# 从Jupyter到JupyterLib"
   ]
  },
  {
   "cell_type": "markdown",
   "metadata": {},
   "source": [
    "![JupyterLib](../pic/jupyterlib.jpg)"
   ]
  },
  {
   "cell_type": "code",
   "execution_count": null,
   "metadata": {},
   "outputs": [],
   "source": []
  },
  {
   "cell_type": "code",
   "execution_count": null,
   "metadata": {},
   "outputs": [],
   "source": []
  }
 ],
 "metadata": {
  "kernelspec": {
   "display_name": "Python 3",
   "language": "python",
   "name": "python3"
  },
  "language_info": {
   "codemirror_mode": {
    "name": "ipython",
    "version": 3
   },
   "file_extension": ".py",
   "mimetype": "text/x-python",
   "name": "python",
   "nbconvert_exporter": "python",
   "pygments_lexer": "ipython3",
   "version": "3.7.1"
  }
 },
 "nbformat": 4,
 "nbformat_minor": 2
}
