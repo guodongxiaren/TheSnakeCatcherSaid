{
 "cells": [
  {
   "cell_type": "markdown",
   "metadata": {},
   "source": [
    "![conda](../pic/conda.png)"
   ]
  },
  {
   "cell_type": "markdown",
   "metadata": {},
   "source": [
    "# Conda"
   ]
  },
  {
   "cell_type": "markdown",
   "metadata": {},
   "source": [
    "强烈建议使用Python的同学们，都应该学习使用 [conda][conda] ，简单的来说conda是一个类似**pip**的Python包管理工具，但是其实它的功能要更为强大。比如你机器上同时有python2和3的脚本，该怎么管理？使用conda就是必然选择。\n",
    "\n",
    "conda不止是个Python包管理工具，它本身更可以安装各个版本的Python，创建Python环境。这是pip做不到的。\n",
    "\n",
    "[conda]:https://conda.io/projects/conda/en/latest/index.html"
   ]
  },
  {
   "cell_type": "markdown",
   "metadata": {},
   "source": [
    "## 安装Python2环境"
   ]
  },
  {
   "cell_type": "raw",
   "metadata": {},
   "source": [
    "conda create -n py27 python=2.7\n",
    "source activate py27"
   ]
  },
  {
   "cell_type": "markdown",
   "metadata": {},
   "source": [
    "## 安装Python3环境"
   ]
  },
  {
   "cell_type": "raw",
   "metadata": {},
   "source": [
    "conda create -n py36 python=3.6\n",
    "source activate py36"
   ]
  },
  {
   "cell_type": "markdown",
   "metadata": {},
   "source": [
    "## 切换环境\n",
    "切换到Python2的环境"
   ]
  },
  {
   "cell_type": "raw",
   "metadata": {},
   "source": [
    "source activate py27"
   ]
  },
  {
   "cell_type": "markdown",
   "metadata": {},
   "source": [
    "切换到Python3的环境"
   ]
  },
  {
   "cell_type": "raw",
   "metadata": {},
   "source": [
    "source activate py36"
   ]
  },
  {
   "cell_type": "markdown",
   "metadata": {},
   "source": [
    "查看当前安装的环境"
   ]
  },
  {
   "cell_type": "raw",
   "metadata": {},
   "source": [
    "conda info --envs"
   ]
  },
  {
   "cell_type": "markdown",
   "metadata": {},
   "source": [
    "conda不仅可以用来管理Python，可以用来管理其他语言的包。"
   ]
  },
  {
   "cell_type": "markdown",
   "metadata": {},
   "source": [
    "# Miniconda"
   ]
  },
  {
   "cell_type": "code",
   "execution_count": null,
   "metadata": {},
   "outputs": [],
   "source": []
  },
  {
   "cell_type": "markdown",
   "metadata": {},
   "source": [
    "# Anaconda"
   ]
  },
  {
   "cell_type": "markdown",
   "metadata": {},
   "source": [
    "Continuum Analytics 公司。关于Anaconda也是经常被和conda混淆，因为大部分人安装conda都是从安装Anaconda开始的。\n",
    "但Anaconda不是conda，它是一个Python的发行版，它其中包含conda。"
   ]
  },
  {
   "cell_type": "markdown",
   "metadata": {},
   "source": [
    "# conda-forge\n",
    "是一个社区，非商业组织"
   ]
  },
  {
   "cell_type": "markdown",
   "metadata": {},
   "source": [
    "# 其他用法"
   ]
  },
  {
   "cell_type": "markdown",
   "metadata": {},
   "source": [
    "## 安装Jupyter\n",
    "conda默认就基础了Jupyter，如果你说你没听说过Jupyter，那么你也OUT了。简单来说就是一个Notebook，但是你可以在这个笔记本里直接运行代码。\n",
    "Jupyter有Python2和3两种内核。想安装相应的内核，就把conda环境切换过去。然后执行：\n",
    " "
   ]
  },
  {
   "cell_type": "raw",
   "metadata": {},
   "source": [
    "conda install notebook ipykernel\n",
    "ipython kernel install --user"
   ]
  },
  {
   "cell_type": "markdown",
   "metadata": {},
   "source": [
    "-----------------------"
   ]
  },
  {
   "cell_type": "markdown",
   "metadata": {},
   "source": [
    "[conda]:https://conda.io/projects/conda/en/latest/index.html"
   ]
  }
 ],
 "metadata": {
  "kernelspec": {
   "display_name": "Python 3",
   "language": "python",
   "name": "python3"
  },
  "language_info": {
   "codemirror_mode": {
    "name": "ipython",
    "version": 3
   },
   "file_extension": ".py",
   "mimetype": "text/x-python",
   "name": "python",
   "nbconvert_exporter": "python",
   "pygments_lexer": "ipython3",
   "version": "3.7.1"
  }
 },
 "nbformat": 4,
 "nbformat_minor": 2
}
