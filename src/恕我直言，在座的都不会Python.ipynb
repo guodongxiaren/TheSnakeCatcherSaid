{
 "cells": [
  {
   "cell_type": "markdown",
   "metadata": {},
   "source": [
    "起因是看到一个Python面试题。咋一看，还真是有些懵逼的，其实故弄玄虚……：\n",
    "\n",
    "**面试题**：下面代码的执行结果是？\n",
    "```python\n",
    "#! /usr/bin/python\n",
    "# -*- coding: UFT-8 -*-\n",
    "\n",
    "var = 'Hello World!'\n",
    "var[:6] + 'Runnoob!'\n",
    "```\n",
    "用Juypter写Python文章，是极好的。\n",
    "首先考察的是Python的切片。`var[:6]`就是截取索引从0到5的子串"
   ]
  },
  {
   "cell_type": "code",
   "execution_count": 6,
   "metadata": {},
   "outputs": [
    {
     "data": {
      "text/plain": [
       "'Hello '"
      ]
     },
     "execution_count": 6,
     "metadata": {},
     "output_type": "execute_result"
    }
   ],
   "source": [
    "var = 'Hello World!'\n",
    "var[:6]"
   ]
  },
  {
   "cell_type": "markdown",
   "metadata": {},
   "source": [
    "然后就是普通的字符串拼接了"
   ]
  },
  {
   "cell_type": "code",
   "execution_count": 7,
   "metadata": {},
   "outputs": [
    {
     "data": {
      "text/plain": [
       "'Hello Runnoob!'"
      ]
     },
     "execution_count": 7,
     "metadata": {},
     "output_type": "execute_result"
    }
   ],
   "source": [
    "var[:6] + 'Runnoob!'"
   ]
  }
 ],
 "metadata": {
  "kernelspec": {
   "display_name": "Python 3",
   "language": "python",
   "name": "python3"
  },
  "language_info": {
   "codemirror_mode": {
    "name": "ipython",
    "version": 3
   },
   "file_extension": ".py",
   "mimetype": "text/x-python",
   "name": "python",
   "nbconvert_exporter": "python",
   "pygments_lexer": "ipython3",
   "version": "3.7.1"
  }
 },
 "nbformat": 4,
 "nbformat_minor": 2
}
